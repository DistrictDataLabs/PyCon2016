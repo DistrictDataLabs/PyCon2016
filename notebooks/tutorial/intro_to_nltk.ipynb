{
 "cells": [
  {
   "cell_type": "code",
   "execution_count": 1,
   "metadata": {
    "collapsed": false
   },
   "outputs": [],
   "source": [
    "%matplotlib inline"
   ]
  },
  {
   "cell_type": "markdown",
   "metadata": {},
   "source": [
    "# What is NLP?\n",
    "\n",
    "Natural Language Processing (NLP) is often taught at the academic level from the perspective of computational linguists. However, as data scientists, we have a richer view of the natural language world - unstructured data that by its very nature has latent information that is important to humans. NLP practioners have benefitted from machine learning techniques to unlock meaning from large corpora, and in this tutorial we’ll explore how to do that using Python, the Natural Language Toolkit (NLTK) and Gensim. \n",
    "\n",
    "NLTK is an excellent library for machine-learning based NLP, written in Python by experts from both academia and industry. Python allows you to create rich data applications rapidly, iterating on hypotheses. The combination of Python + NLTK means that you can easily add language-aware data products to your larger analytical workflows and applications. \n",
    "\n",
    "## Quick Overview of NLTK\n",
    "NLTK was written by two eminent computational linguists, Steven Bird (Senior Research Associate of the LDC and professor at the University of Melbourne) and Ewan Klein (Professor of Linguistics at Edinburgh University). The NTLK library provides a combination of natural language corpora, lexical resources, and example grammars with language processing algorithms, methodologies and demonstrations for a very Pythonic \"batteries included\" view of natural language processing.   \n",
    "\n",
    "As such, NLTK is perfect for research-driven (hypothesis-driven) workflows for agile data science. \n",
    "\n",
    "### What NLTK Includes\n",
    "\n",
    "- tokenization, stemming, and tagging\n",
    "- chunking and parsing\n",
    "- language modeling\n",
    "- classification and clustering\n",
    "- logical semantics\n",
    "\n",
    "NLTK is a useful pedagogical resource for learning NLP with Python and serves as a starting place for producing production grade code that requires natural language analysis. It is also important to understand what NLTK is _not_.\n",
    "\n",
    "### What NLTK is _Not_\n",
    "\n",
    "- Production ready out of the box\n",
    "- Lightweight\n",
    "- Generally applicable\n",
    "- Magic\n",
    "\n",
    "NLTK provides a variety of tools that can be used to explore the linguistic domain but is not a lightweight dependency that can be easily included in other workflows, especially those that require unit and integration testing or other build processes. This stems from the fact that NLTK includes a lot of added code but also a rich and complete library of corpora that power the built-in algorithms. \n",
    "\n",
    "### The Good Parts of NLTK\n",
    "\n",
    "- Preprocessing\n",
    "    - segmentation\n",
    "    - tokenization\n",
    "    - PoS tagging\n",
    "- Word level processing\n",
    "    - WordNet\n",
    "    - Lemmatization\n",
    "    - Stemming\n",
    "    - NGrams\n",
    "- Utilities\n",
    "    - Tree\n",
    "    - FreqDist\n",
    "    - ConditionalFreqDist\n",
    "    - Streaming CorpusReaders\n",
    "- Classification\n",
    "    - Maximum Entropy\n",
    "    - Naive Bayes\n",
    "    - Decision Tree\n",
    "- Chunking\n",
    "- Named Entity Recognition\n",
    "- Parsers Galore!\n",
    "\n",
    "### The Bad parts of NLTK\n",
    "\n",
    "- Syntactic Parsing\n",
    "\n",
    "    - No included grammar (not a black box)\n",
    "    - No Feature/Dependency Parsing\n",
    "    - No included feature grammar\n",
    "\n",
    "- The sem package\n",
    "    \n",
    "    - Toy only (lambda-calculus & first order logic)\n",
    "\n",
    "- Lots of extra stuff (heavyweight dependency)\n",
    "\n",
    "    - papers, chat programs, alignments, etc.\n",
    "\n",
    "Knowing the good and the bad parts will help you explore NLTK further - looking into the source code to extract the material you need, then moving that code to production. We will explore NLTK in more detail in the rest of this notebook. \n",
    "\n",
    "## Installing NLTK\n",
    "\n",
    "This notebook has a few dependencies, most of which can be installed via the python package manger - `pip`. \n",
    "\n",
    "1. Python 2.7+ or 3.5+ (Anaconda is ok)\n",
    "2. NLTK\n",
    "3. The NLTK corpora \n",
    "4. The BeautifulSoup library\n",
    "5. The gensim libary\n",
    "\n",
    "Once you have Python and pip installed you can install NLTK as follows:\n",
    "\n",
    "    ~$ pip install nltk\n",
    "    \n",
    "    ~$ pip install matplotlib\n",
    "    \n",
    "    ~$ pip install beautifulsoup4\n",
    "    \n",
    "    ~$ pip install gensim\n",
    "\n",
    "Note that these will also install Numpy and Scipy if they aren't already installed. "
   ]
  },
  {
   "cell_type": "code",
   "execution_count": 2,
   "metadata": {
    "collapsed": false
   },
   "outputs": [],
   "source": [
    "# To download the NLTK corpora, open a Python interpreter:\n",
    "import nltk"
   ]
  },
  {
   "cell_type": "code",
   "execution_count": null,
   "metadata": {
    "collapsed": false
   },
   "outputs": [],
   "source": [
    "nltk.download()"
   ]
  },
  {
   "cell_type": "markdown",
   "metadata": {},
   "source": [
    "This will open up a window with which you can download the various corpora and models to a specified location. For now, go ahead and download it all as we will be exploring as much of NLTK as we can. Also take note of the `download_directory` - you're going to want to know where that is so you can get a detailed look at the corpora that's included. I usually export an environment variable to track this:\n",
    "\n",
    "    ~$ export NLTK_DATA=/path/to/nltk_data\n",
    "    \n",
    "_Take a moment to explore what is in this directory_"
   ]
  },
  {
   "cell_type": "markdown",
   "metadata": {},
   "source": [
    "## Working with Example Corpora\n",
    "\n",
    "NLTK ships with a variety of corpora, let's use a few of them to do some work. You can explore the titles with:\n",
    "\n",
    "```python\n",
    "nltk.corpus.gutenberg.fileids()\n",
    "```\n",
    "\n",
    "Get access to the text from _Hamlet_ as follows:"
   ]
  },
  {
   "cell_type": "code",
   "execution_count": 3,
   "metadata": {
    "collapsed": false
   },
   "outputs": [],
   "source": [
    "hamlet = nltk.text.Text(nltk.corpus.gutenberg.words('shakespeare-hamlet.txt'))"
   ]
  },
  {
   "cell_type": "markdown",
   "metadata": {},
   "source": [
    "The `nltk.text.Text` class is a wrapper around a sequence of simple (string) tokens - intended only for _the initial exploration of text_ usually via the Python REPL. It has the following methods:\n",
    "\n",
    "- common_contexts\n",
    "- concordance\n",
    "- collocations\n",
    "- count\n",
    "- plot\n",
    "- findall\n",
    "- index\n",
    "\n",
    "You shouldn't use this class in production level systems, but it is useful to explore (small) snippets of text in a meaningful fashion.\n",
    "\n",
    "The corcordance function performs a search for the given token and then also provides the surrounding context:\n"
   ]
  },
  {
   "cell_type": "code",
   "execution_count": 11,
   "metadata": {
    "collapsed": false
   },
   "outputs": [
    {
     "name": "stdout",
     "output_type": "stream",
     "text": [
      "No matches\n"
     ]
    }
   ],
   "source": [
    "hamlet.concordance(\"pity\", 55, lines=10)"
   ]
  },
  {
   "cell_type": "markdown",
   "metadata": {},
   "source": [
    "Given some context surrounding a word, we can discover similar words, e.g. words that that occur frequently in the same context and with a similar distribution: Distributional similarity: "
   ]
  },
  {
   "cell_type": "code",
   "execution_count": 7,
   "metadata": {
    "collapsed": false
   },
   "outputs": [
    {
     "name": "stdout",
     "output_type": "stream",
     "text": [
      "imperial subtly impalpable pitiable curious abundant perilous\n",
      "trustworthy untoward singular lamentable few determined maddens\n",
      "horrible tyrannical lazy mystifying christian exasperate\n",
      "None\n",
      "\n",
      "very exceedingly so heartily a great good amazingly as sweet\n",
      "remarkably extremely vast\n",
      "None\n"
     ]
    }
   ],
   "source": [
    "print hamlet.similar(\"monstrous\")\n",
    "austen = nltk.text.Text(nltk.corpus.gutenberg.words('austen-sense.txt'))\n",
    "print\n",
    "print austen.similar(\"monstrous\")"
   ]
  },
  {
   "cell_type": "markdown",
   "metadata": {},
   "source": [
    "As you can see, this takes a bit of time to build the index in memory, one of the reasons it's not suggested to use this class in production code. Now that we can do searching and similarity, find the common contexts of a set of words:"
   ]
  },
  {
   "cell_type": "code",
   "execution_count": 8,
   "metadata": {
    "collapsed": false,
    "scrolled": true
   },
   "outputs": [
    {
     "name": "stdout",
     "output_type": "stream",
     "text": [
      "to_s of_and murmured_gazing cried_let by_s but_s and_s to_the\n",
      "cried_give in_the of_s with_the cried_to at_s cried_look\n"
     ]
    }
   ],
   "source": [
    "moby.common_contexts([\"ahab\", \"starbuck\"])"
   ]
  },
  {
   "cell_type": "markdown",
   "metadata": {},
   "source": [
    "_your turn, go ahead and explore similar words and contexts - what does the common context mean?_\n",
    "\n",
    "NLTK also uses matplotlib and pylab to display graphs and charts that can show dispersions and frequency. This is especially interesting for the corpus of innagural addresses given by U.S. presidents."
   ]
  },
  {
   "cell_type": "code",
   "execution_count": 11,
   "metadata": {
    "collapsed": false
   },
   "outputs": [
    {
     "data": {
      "image/png": "[encoded data removed]",
      "text/plain": [
       "<matplotlib.figure.Figure at 0x11c8bea90>"
      ]
     },
     "metadata": {},
     "output_type": "display_data"
    }
   ],
   "source": [
    "inaugural = nltk.text.Text(nltk.corpus.inaugural.words())\n",
    "inaugural.dispersion_plot([\"citizens\", \"democracy\", \"freedom\", \"duty\", \"America\"])"
   ]
  },
  {
   "cell_type": "markdown",
   "metadata": {},
   "source": [
    "To explore much of the built in corpus, use the following methods:"
   ]
  },
  {
   "cell_type": "code",
   "execution_count": 12,
   "metadata": {
    "collapsed": false
   },
   "outputs": [
    {
     "name": "stdout",
     "output_type": "stream",
     "text": [
      "abc\n",
      "alpino\n",
      "brown\n",
      "cess_cat\n",
      "cess_esp\n",
      "cmudict\n",
      "comparative_sentences\n",
      "comtrans\n",
      "conll2000\n",
      "conll2002\n",
      "conll2007\n",
      "crubadan\n",
      "demo\n",
      "dependency_treebank\n",
      "find_corpus_fileids\n",
      "floresta\n",
      "framenet\n",
      "gazetteers\n",
      "genesis\n",
      "gutenberg\n",
      "ieer\n",
      "inaugural\n",
      "indian\n",
      "ipipan\n",
      "jeita\n",
      "knbc\n",
      "lin_thesaurus\n",
      "mac_morpho\n",
      "machado\n",
      "masc_tagged\n",
      "movie_reviews\n",
      "multext_east\n",
      "names\n",
      "nkjp\n",
      "nombank\n",
      "nombank_ptb\n",
      "nps_chat\n",
      "opinion_lexicon\n",
      "panlex_lite\n",
      "pl196x\n",
      "ppattach\n",
      "product_reviews_1\n",
      "product_reviews_2\n",
      "propbank\n",
      "propbank_ptb\n",
      "pros_cons\n",
      "ptb\n",
      "qc\n",
      "re\n",
      "reader\n",
      "reuters\n",
      "rte\n",
      "semcor\n",
      "senseval\n",
      "sentence_polarity\n",
      "sentiwordnet\n",
      "shakespeare\n",
      "sinica_treebank\n",
      "state_union\n",
      "stopwords\n",
      "subjectivity\n",
      "swadesh\n",
      "swadesh110\n",
      "swadesh207\n",
      "switchboard\n",
      "tagged_treebank_para_block_reader\n",
      "teardown_module\n",
      "timit\n",
      "timit_tagged\n",
      "toolbox\n",
      "treebank\n",
      "treebank_chunk\n",
      "treebank_raw\n",
      "twitter_samples\n",
      "udhr\n",
      "udhr2\n",
      "universal_treebanks\n",
      "util\n",
      "verbnet\n",
      "webtext\n",
      "wordnet\n",
      "wordnet_ic\n",
      "words\n",
      "ycoe\n"
     ]
    }
   ],
   "source": [
    "# Lists the various corpora and CorpusReader classes in the nltk.corpus module\n",
    "for name in dir(nltk.corpus):\n",
    "    if name.islower() and not name.startswith('_'): print name"
   ]
  },
  {
   "cell_type": "code",
   "execution_count": 13,
   "metadata": {
    "collapsed": false
   },
   "outputs": [
    {
     "name": "stdout",
     "output_type": "stream",
     "text": [
      "[u'a_and_c.xml', u'dream.xml', u'hamlet.xml', u'j_caesar.xml', u'macbeth.xml', u'merchant.xml', u'othello.xml', u'r_and_j.xml']\n"
     ]
    }
   ],
   "source": [
    "# For a specific corpus, list the fileids that are available:\n",
    "print nltk.corpus.shakespeare.fileids()"
   ]
  },
  {
   "cell_type": "code",
   "execution_count": 14,
   "metadata": {
    "collapsed": false
   },
   "outputs": [
    {
     "name": "stdout",
     "output_type": "stream",
     "text": [
      "[u'austen-emma.txt', u'austen-persuasion.txt', u'austen-sense.txt', u'bible-kjv.txt', u'blake-poems.txt', u'bryant-stories.txt', u'burgess-busterbrown.txt', u'carroll-alice.txt', u'chesterton-ball.txt', u'chesterton-brown.txt', u'chesterton-thursday.txt', u'edgeworth-parents.txt', u'melville-moby_dick.txt', u'milton-paradise.txt', u'shakespeare-caesar.txt', u'shakespeare-hamlet.txt', u'shakespeare-macbeth.txt', u'whitman-leaves.txt']\n"
     ]
    }
   ],
   "source": [
    "print nltk.corpus.gutenberg.fileids()"
   ]
  },
  {
   "cell_type": "code",
   "execution_count": 17,
   "metadata": {
    "collapsed": false
   },
   "outputs": [
    {
     "name": "stdout",
     "output_type": "stream",
     "text": [
      "[u'danish', u'dutch', u'english', u'finnish', u'french', u'german', u'hungarian', u'italian', u'norwegian', u'portuguese', u'russian', u'spanish', u'swedish', u'turkish']\n"
     ]
    }
   ],
   "source": [
    "print nltk.corpus.stopwords.fileids()\n",
    "nltk.corpus.stopwords.words('english')\n",
    "import string\n",
    "# print string.punctuation"
   ]
  },
  {
   "cell_type": "markdown",
   "metadata": {},
   "source": [
    "These corpora export several vital methods:\n",
    "\n",
    "- paras (iterate through each paragraph)\n",
    "- sents (iterate through each sentence)\n",
    "- words (iterate through each word)\n",
    "- raw   (get access to the raw text)"
   ]
  },
  {
   "cell_type": "code",
   "execution_count": 18,
   "metadata": {
    "collapsed": false
   },
   "outputs": [
    {
     "name": "stdout",
     "output_type": "stream",
     "text": [
      "[[[u'The', u'Fulton', u'County', u'Grand', u'Jury', u'said', u'Friday', u'an', u'investigation', u'of', u\"Atlanta's\", u'recent', u'primary', u'election', u'produced', u'``', u'no', u'evidence', u\"''\", u'that', u'any', u'irregularities', u'took', u'place', u'.']], [[u'The', u'jury', u'further', u'said', u'in', u'term-end', u'presentments', u'that', u'the', u'City', u'Executive', u'Committee', u',', u'which', u'had', u'over-all', u'charge', u'of', u'the', u'election', u',', u'``', u'deserves', u'the', u'praise', u'and', u'thanks', u'of', u'the', u'City', u'of', u'Atlanta', u\"''\", u'for', u'the', u'manner', u'in', u'which', u'the', u'election', u'was', u'conducted', u'.']], ...]\n"
     ]
    }
   ],
   "source": [
    "corpus = nltk.corpus.brown\n",
    "print corpus.paras()"
   ]
  },
  {
   "cell_type": "code",
   "execution_count": 19,
   "metadata": {
    "collapsed": false
   },
   "outputs": [
    {
     "name": "stdout",
     "output_type": "stream",
     "text": [
      "[[u'The', u'Fulton', u'County', u'Grand', u'Jury', u'said', u'Friday', u'an', u'investigation', u'of', u\"Atlanta's\", u'recent', u'primary', u'election', u'produced', u'``', u'no', u'evidence', u\"''\", u'that', u'any', u'irregularities', u'took', u'place', u'.'], [u'The', u'jury', u'further', u'said', u'in', u'term-end', u'presentments', u'that', u'the', u'City', u'Executive', u'Committee', u',', u'which', u'had', u'over-all', u'charge', u'of', u'the', u'election', u',', u'``', u'deserves', u'the', u'praise', u'and', u'thanks', u'of', u'the', u'City', u'of', u'Atlanta', u\"''\", u'for', u'the', u'manner', u'in', u'which', u'the', u'election', u'was', u'conducted', u'.'], ...]\n"
     ]
    }
   ],
   "source": [
    "print corpus.sents()"
   ]
  },
  {
   "cell_type": "code",
   "execution_count": 20,
   "metadata": {
    "collapsed": false
   },
   "outputs": [
    {
     "name": "stdout",
     "output_type": "stream",
     "text": [
      "[u'The', u'Fulton', u'County', u'Grand', u'Jury', ...]\n"
     ]
    }
   ],
   "source": [
    "print corpus.words()"
   ]
  },
  {
   "cell_type": "code",
   "execution_count": 22,
   "metadata": {
    "collapsed": false
   },
   "outputs": [
    {
     "name": "stdout",
     "output_type": "stream",
     "text": [
      "\n",
      "\n",
      "\tThe/at Fulton/np-tl County/nn-tl Grand/jj-tl Jury/nn-tl said/vbd Friday/nr an/at investigation/nn of/in Atlanta's/np$ recent/jj primary/nn election/nn produced/vbd ``/`` no/at evidence/nn ''/'' tha\n"
     ]
    }
   ],
   "source": [
    "print corpus.raw()[:200] # Be careful!"
   ]
  },
  {
   "cell_type": "markdown",
   "metadata": {},
   "source": [
    "_Your turn! Explore some of the text in the available corpora_"
   ]
  },
  {
   "cell_type": "markdown",
   "metadata": {},
   "source": [
    "## Frequency Analyses\n",
    "\n",
    "In statistical machine learning approaches to NLP, the very first thing we need to do is count things - especially the unigrams that appear in the text and their relationships to each other. NLTK provides two very excellent classes to enable these frequency analyses:\n",
    "\n",
    "- `FreqDist`\n",
    "- `ConditionalFreqDist` \n",
    "\n",
    "And these two classes serve as the foundation for most of the probability and statistical analyses that we will conduct.\n",
    "\n",
    "First we will compute the following:\n",
    "\n",
    "- The count of words\n",
    "- The vocabulary (unique words)\n",
    "- The lexical diversity (the ratio of word count to vocabulary)"
   ]
  },
  {
   "cell_type": "code",
   "execution_count": 23,
   "metadata": {
    "collapsed": false
   },
   "outputs": [
    {
     "name": "stdout",
     "output_type": "stream",
     "text": [
      "Corpus has 41600 types and 1720901 tokens for a lexical diversity of 41.368\n"
     ]
    }
   ],
   "source": [
    "reuters = nltk.corpus.reuters # Corpus of news articles\n",
    "counts  = nltk.FreqDist(reuters.words())\n",
    "vocab   = len(counts.keys())\n",
    "words   = sum(counts.values())\n",
    "lexdiv  = float(words) / float(vocab)\n",
    "\n",
    "print \"Corpus has %i types and %i tokens for a lexical diversity of %0.3f\" % (vocab, words, lexdiv)"
   ]
  },
  {
   "cell_type": "code",
   "execution_count": 25,
   "metadata": {
    "collapsed": false
   },
   "outputs": [
    {
     "data": {
      "text/plain": [
       "41600"
      ]
     },
     "execution_count": 25,
     "metadata": {},
     "output_type": "execute_result"
    }
   ],
   "source": [
    "counts.B()"
   ]
  },
  {
   "cell_type": "code",
   "execution_count": 26,
   "metadata": {
    "collapsed": false
   },
   "outputs": [
    {
     "name": "stdout",
     "output_type": "stream",
     "text": [
      "[(u'.', 94687), (u',', 72360), (u'the', 58251), (u'of', 35979), (u'to', 34035), (u'in', 26478), (u'said', 25224), (u'and', 25043), (u'a', 23492), (u'mln', 18037), (u'vs', 14120), (u'-', 13705), (u'for', 12785), (u'dlrs', 11730), (u\"'\", 11272), (u'The', 10968), (u'000', 10277), (u'1', 9977), (u's', 9298), (u'pct', 9093), (u'it', 8842), (u';', 8762), (u'&', 8698), (u'lt', 8694), (u'on', 8556), (u'from', 7986), (u'cts', 7953), (u'is', 7580), (u'>', 7449), (u'that', 7377), (u'its', 7265), (u'by', 6872), (u'\"', 6816), (u'at', 6537), (u'2', 6528), (u'U', 6388), (u'S', 6382), (u'year', 6310), (u'be', 6288), (u'with', 5945)]\n"
     ]
    }
   ],
   "source": [
    "print counts.most_common(40)  # The n most common tokens in the corpus"
   ]
  },
  {
   "cell_type": "code",
   "execution_count": 27,
   "metadata": {
    "collapsed": false
   },
   "outputs": [
    {
     "name": "stdout",
     "output_type": "stream",
     "text": [
      ".\n"
     ]
    }
   ],
   "source": [
    "print counts.max() # The most frequent token in the corpus"
   ]
  },
  {
   "cell_type": "code",
   "execution_count": 28,
   "metadata": {
    "collapsed": false
   },
   "outputs": [
    {
     "name": "stdout",
     "output_type": "stream",
     "text": [
      "[u'Durapipe', u'HARDIE', u'localized', u'regularize', u'LASR', u'passsengers', u'Valli', u'pages', u'stipulate', u'TRAF']\n"
     ]
    }
   ],
   "source": [
    "print counts.hapaxes()[0:10]  # A list of all hapax legomena "
   ]
  },
  {
   "cell_type": "code",
   "execution_count": 29,
   "metadata": {
    "collapsed": false
   },
   "outputs": [
    {
     "data": {
      "text/plain": [
       "5.810909517746808e-05"
      ]
     },
     "execution_count": 29,
     "metadata": {},
     "output_type": "execute_result"
    }
   ],
   "source": [
    "counts.freq('stipulate') * 100 # percentage of the corpus for this token"
   ]
  },
  {
   "cell_type": "code",
   "execution_count": 24,
   "metadata": {
    "collapsed": false
   },
   "outputs": [
    {
     "data": {
      "image/png": "[encoded data removed]",
      "text/plain": [
       "<matplotlib.figure.Figure at 0x11fd46850>"
      ]
     },
     "metadata": {},
     "output_type": "display_data"
    }
   ],
   "source": [
    "counts.plot(200, cumulative=False)"
   ]
  },
  {
   "cell_type": "code",
   "execution_count": 30,
   "metadata": {
    "collapsed": false
   },
   "outputs": [
    {
     "data": {
      "image/png": "[encoded data removed]",
      "text/plain": [
       "<matplotlib.figure.Figure at 0x11fd46810>"
      ]
     },
     "metadata": {},
     "output_type": "display_data"
    }
   ],
   "source": [
    "counts.plot(200, cumulative=True)"
   ]
  },
  {
   "cell_type": "code",
   "execution_count": 31,
   "metadata": {
    "collapsed": false
   },
   "outputs": [
    {
     "name": "stdout",
     "output_type": "stream",
     "text": [
      "mystery: 6982 types with 57169 tokens and lexical diveristy of 8.188\n",
      "belles_lettres: 18421 types with 173096 tokens and lexical diveristy of 9.397\n",
      "humor: 5017 types with 21695 tokens and lexical diveristy of 4.324\n",
      "government: 8181 types with 70117 tokens and lexical diveristy of 8.571\n",
      "fiction: 9302 types with 68488 tokens and lexical diveristy of 7.363\n",
      "reviews: 8626 types with 40704 tokens and lexical diveristy of 4.719\n",
      "religion: 6373 types with 39399 tokens and lexical diveristy of 6.182\n",
      "romance: 8452 types with 70022 tokens and lexical diveristy of 8.285\n",
      "science_fiction: 3233 types with 14470 tokens and lexical diveristy of 4.476\n",
      "adventure: 8874 types with 69342 tokens and lexical diveristy of 7.814\n",
      "editorial: 9890 types with 61604 tokens and lexical diveristy of 6.229\n",
      "hobbies: 11935 types with 82345 tokens and lexical diveristy of 6.899\n",
      "lore: 14503 types with 110299 tokens and lexical diveristy of 7.605\n",
      "news: 14394 types with 100554 tokens and lexical diveristy of 6.986\n",
      "learned: 16859 types with 181888 tokens and lexical diveristy of 10.789\n"
     ]
    }
   ],
   "source": [
    "from itertools import chain \n",
    "\n",
    "brown = nltk.corpus.brown\n",
    "categories = brown.categories()\n",
    "\n",
    "counts = nltk.ConditionalFreqDist(chain(*[[(cat, word) for word in brown.words(categories=cat)] for cat in categories]))\n",
    "\n",
    "for category, dist in counts.items():\n",
    "    vocab  = len(dist.keys())\n",
    "    tokens = sum(dist.values())\n",
    "    lexdiv = float(tokens) / float(vocab)\n",
    "    print \"%s: %i types with %i tokens and lexical diversity of %0.3f\" % (category, vocab, tokens, lexdiv)"
   ]
  },
  {
   "cell_type": "markdown",
   "metadata": {},
   "source": [
    "_Your turn: compute the conditional frequency distribution of bigrams in a corpus_\n",
    "\n",
    "Hint:\n"
   ]
  },
  {
   "cell_type": "code",
   "execution_count": 32,
   "metadata": {
    "collapsed": false
   },
   "outputs": [
    {
     "name": "stdout",
     "output_type": "stream",
     "text": [
      "('The', 'bear', 'walked', 'in', 'the')\n",
      "('bear', 'walked', 'in', 'the', 'woods')\n",
      "('walked', 'in', 'the', 'woods', 'at')\n",
      "('in', 'the', 'woods', 'at', 'midnight')\n"
     ]
    }
   ],
   "source": [
    "for ngram in nltk.ngrams([\"The\", \"bear\", \"walked\", \"in\", \"the\", \"woods\", \"at\", \"midnight\"], 5):\n",
    "    print ngram\n",
    "\n",
    "    "
   ]
  },
  {
   "cell_type": "markdown",
   "metadata": {},
   "source": [
    "## Preprocessing Text\n",
    "\n",
    "NLTK is great at the preprocessing of Raw text - it provides the following tools for dividing text into it's constituent parts:\n",
    "\n",
    "- `sent_tokenize`: a Punkt sentence tokenizer:\n",
    "\n",
    "    This tokenizer divides a text into a list of sentences, by using an unsupervised algorithm to build a model for abbreviation words, collocations, and words that start sentences.  It must be trained on a large collection of plaintext in the target language before it can be used.\n",
    "    \n",
    "    However, Punkt is designed to learn parameters (a list of abbreviations, etc.) unsupervised from a corpus similar to the target domain. The pre-packaged models may therefore be unsuitable: use PunktSentenceTokenizer(text) to learn parameters from the given text.\n",
    "    \n",
    "    \n",
    "- `word_tokenize`: a Treebank tokenizer \n",
    "\n",
    "    The Treebank tokenizer uses regular expressions to tokenize text as in Penn Treebank. This is the method that is invoked by ``word_tokenize()``.  It assumes that the text has already been segmented into sentences, e.g. using ``sent_tokenize()``.\n",
    "    \n",
    "\n",
    "- `pos_tag`: a maximum entropy tagger trained on the Penn Treebank\n",
    "\n",
    "    There are several other taggers including (notably) the BrillTagger as well as the BrillTrainer to train your own tagger or tagset. "
   ]
  },
  {
   "cell_type": "code",
   "execution_count": 33,
   "metadata": {
    "collapsed": false
   },
   "outputs": [
    {
     "name": "stdout",
     "output_type": "stream",
     "text": [
      "Medical personnel returning to New York and New Jersey from the Ebola-riddled countries in West Africa will be automatically quarantined if they had direct contact with an infected person, officials announced Friday.\n",
      "\n",
      "New York Gov.\n",
      "\n",
      "Andrew Cuomo (D) and New Jersey Gov.\n",
      "\n",
      "Chris Christie (R) announced the decision at a joint news conference Friday at 7 World Trade Center.\n",
      "\n",
      "“We have to do more,” Cuomo said.\n",
      "\n",
      "“It’s too serious of a situation to leave it to the honor system of compliance.” They said that public-health officials at John F. Kennedy and Newark Liberty international airports, where enhanced screening for Ebola is taking place, would make the determination on who would be quarantined.\n",
      "\n",
      "Anyone who had direct contact with an Ebola patient in Liberia, Sierra Leone or Guinea will be quarantined.\n",
      "\n",
      "In addition, anyone who traveled there but had no such contact would be actively monitored and possibly quarantined, authorities said.\n",
      "\n",
      "This news came a day after a doctor who had treated Ebola patients in Guinea was diagnosed in Manhattan, becoming the fourth person diagnosed with the virus in the United States and the first outside of Dallas.\n",
      "\n",
      "And the decision came not long after a health-care worker who had treated Ebola patients arrived at Newark, one of five airports where people traveling from West Africa to the United States are encountering the stricter screening rules.\n",
      "\n"
     ]
    }
   ],
   "source": [
    "text = u\"Medical personnel returning to New York and New Jersey from the Ebola-riddled countries in West Africa will be automatically quarantined if they had direct contact with an infected person, officials announced Friday. New York Gov. Andrew Cuomo (D) and New Jersey Gov. Chris Christie (R) announced the decision at a joint news conference Friday at 7 World Trade Center. “We have to do more,” Cuomo said. “It’s too serious of a situation to leave it to the honor system of compliance.” They said that public-health officials at John F. Kennedy and Newark Liberty international airports, where enhanced screening for Ebola is taking place, would make the determination on who would be quarantined. Anyone who had direct contact with an Ebola patient in Liberia, Sierra Leone or Guinea will be quarantined. In addition, anyone who traveled there but had no such contact would be actively monitored and possibly quarantined, authorities said. This news came a day after a doctor who had treated Ebola patients in Guinea was diagnosed in Manhattan, becoming the fourth person diagnosed with the virus in the United States and the first outside of Dallas. And the decision came not long after a health-care worker who had treated Ebola patients arrived at Newark, one of five airports where people traveling from West Africa to the United States are encountering the stricter screening rules.\"\n",
    "\n",
    "for sent in nltk.sent_tokenize(text): \n",
    "    print sent\n",
    "    print\n"
   ]
  },
  {
   "cell_type": "code",
   "execution_count": 34,
   "metadata": {
    "collapsed": false
   },
   "outputs": [
    {
     "name": "stdout",
     "output_type": "stream",
     "text": [
      "[u'Medical', u'personnel', u'returning', u'to', u'New', u'York', u'and', u'New', u'Jersey', u'from', u'the', u'Ebola', u'-', u'riddled', u'countries', u'in', u'West', u'Africa', u'will', u'be', u'automatically', u'quarantined', u'if', u'they', u'had', u'direct', u'contact', u'with', u'an', u'infected', u'person', u',', u'officials', u'announced', u'Friday', u'.']\n",
      "\n",
      "[u'New', u'York', u'Gov', u'.']\n",
      "\n",
      "[u'Andrew', u'Cuomo', u'(', u'D', u')', u'and', u'New', u'Jersey', u'Gov', u'.']\n",
      "\n",
      "[u'Chris', u'Christie', u'(', u'R', u')', u'announced', u'the', u'decision', u'at', u'a', u'joint', u'news', u'conference', u'Friday', u'at', u'7', u'World', u'Trade', u'Center', u'.']\n",
      "\n",
      "[u'\\u201c', u'We', u'have', u'to', u'do', u'more', u',\\u201d', u'Cuomo', u'said', u'.']\n",
      "\n",
      "[u'\\u201c', u'It', u'\\u2019', u's', u'too', u'serious', u'of', u'a', u'situation', u'to', u'leave', u'it', u'to', u'the', u'honor', u'system', u'of', u'compliance', u'.\\u201d', u'They', u'said', u'that', u'public', u'-', u'health', u'officials', u'at', u'John', u'F', u'.', u'Kennedy', u'and', u'Newark', u'Liberty', u'international', u'airports', u',', u'where', u'enhanced', u'screening', u'for', u'Ebola', u'is', u'taking', u'place', u',', u'would', u'make', u'the', u'determination', u'on', u'who', u'would', u'be', u'quarantined', u'.']\n",
      "\n",
      "[u'Anyone', u'who', u'had', u'direct', u'contact', u'with', u'an', u'Ebola', u'patient', u'in', u'Liberia', u',', u'Sierra', u'Leone', u'or', u'Guinea', u'will', u'be', u'quarantined', u'.']\n",
      "\n",
      "[u'In', u'addition', u',', u'anyone', u'who', u'traveled', u'there', u'but', u'had', u'no', u'such', u'contact', u'would', u'be', u'actively', u'monitored', u'and', u'possibly', u'quarantined', u',', u'authorities', u'said', u'.']\n",
      "\n",
      "[u'This', u'news', u'came', u'a', u'day', u'after', u'a', u'doctor', u'who', u'had', u'treated', u'Ebola', u'patients', u'in', u'Guinea', u'was', u'diagnosed', u'in', u'Manhattan', u',', u'becoming', u'the', u'fourth', u'person', u'diagnosed', u'with', u'the', u'virus', u'in', u'the', u'United', u'States', u'and', u'the', u'first', u'outside', u'of', u'Dallas', u'.']\n",
      "\n",
      "[u'And', u'the', u'decision', u'came', u'not', u'long', u'after', u'a', u'health', u'-', u'care', u'worker', u'who', u'had', u'treated', u'Ebola', u'patients', u'arrived', u'at', u'Newark', u',', u'one', u'of', u'five', u'airports', u'where', u'people', u'traveling', u'from', u'West', u'Africa', u'to', u'the', u'United', u'States', u'are', u'encountering', u'the', u'stricter', u'screening', u'rules', u'.']\n",
      "\n"
     ]
    }
   ],
   "source": [
    "for sent in nltk.sent_tokenize(text):\n",
    "    print list(nltk.wordpunct_tokenize(sent))\n",
    "    print"
   ]
  },
  {
   "cell_type": "code",
   "execution_count": 35,
   "metadata": {
    "collapsed": false
   },
   "outputs": [
    {
     "name": "stdout",
     "output_type": "stream",
     "text": [
      "[(u'Medical', 'JJ'), (u'personnel', 'NNS'), (u'returning', 'VBG'), (u'to', 'TO'), (u'New', 'NNP'), (u'York', 'NNP'), (u'and', 'CC'), (u'New', 'NNP'), (u'Jersey', 'NNP'), (u'from', 'IN'), (u'the', 'DT'), (u'Ebola-riddled', 'JJ'), (u'countries', 'NNS'), (u'in', 'IN'), (u'West', 'NNP'), (u'Africa', 'NNP'), (u'will', 'MD'), (u'be', 'VB'), (u'automatically', 'RB'), (u'quarantined', 'VBN'), (u'if', 'IN'), (u'they', 'PRP'), (u'had', 'VBD'), (u'direct', 'JJ'), (u'contact', 'NN'), (u'with', 'IN'), (u'an', 'DT'), (u'infected', 'JJ'), (u'person', 'NN'), (u',', ','), (u'officials', 'NNS'), (u'announced', 'VBD'), (u'Friday', 'NNP'), (u'.', '.')]\n",
      "\n",
      "[(u'New', 'NNP'), (u'York', 'NNP'), (u'Gov', 'NNP'), (u'.', '.')]\n",
      "\n",
      "[(u'Andrew', 'NNP'), (u'Cuomo', 'NNP'), (u'(', '('), (u'D', 'NNP'), (u')', ')'), (u'and', 'CC'), (u'New', 'NNP'), (u'Jersey', 'NNP'), (u'Gov', 'NNP'), (u'.', '.')]\n",
      "\n",
      "[(u'Chris', 'NNP'), (u'Christie', 'NNP'), (u'(', '('), (u'R', 'NNP'), (u')', ')'), (u'announced', 'VBD'), (u'the', 'DT'), (u'decision', 'NN'), (u'at', 'IN'), (u'a', 'DT'), (u'joint', 'JJ'), (u'news', 'NN'), (u'conference', 'NN'), (u'Friday', 'NNP'), (u'at', 'IN'), (u'7', 'CD'), (u'World', 'NNP'), (u'Trade', 'NNP'), (u'Center', 'NNP'), (u'.', '.')]\n",
      "\n",
      "[(u'\\u201cWe', 'NNS'), (u'have', 'VBP'), (u'to', 'TO'), (u'do', 'VB'), (u'more', 'JJR'), (u',', ','), (u'\\u201d', 'NNP'), (u'Cuomo', 'NNP'), (u'said', 'VBD'), (u'.', '.')]\n",
      "\n",
      "[(u'\\u201cIt\\u2019s', 'VB'), (u'too', 'RB'), (u'serious', 'JJ'), (u'of', 'IN'), (u'a', 'DT'), (u'situation', 'NN'), (u'to', 'TO'), (u'leave', 'VB'), (u'it', 'PRP'), (u'to', 'TO'), (u'the', 'DT'), (u'honor', 'NN'), (u'system', 'NN'), (u'of', 'IN'), (u'compliance.\\u201d', 'NN'), (u'They', 'PRP'), (u'said', 'VBD'), (u'that', 'IN'), (u'public-health', 'NN'), (u'officials', 'NNS'), (u'at', 'IN'), (u'John', 'NNP'), (u'F.', 'NNP'), (u'Kennedy', 'NNP'), (u'and', 'CC'), (u'Newark', 'NNP'), (u'Liberty', 'NNP'), (u'international', 'JJ'), (u'airports', 'NNS'), (u',', ','), (u'where', 'WRB'), (u'enhanced', 'VBN'), (u'screening', 'NN'), (u'for', 'IN'), (u'Ebola', 'NNP'), (u'is', 'VBZ'), (u'taking', 'VBG'), (u'place', 'NN'), (u',', ','), (u'would', 'MD'), (u'make', 'VB'), (u'the', 'DT'), (u'determination', 'NN'), (u'on', 'IN'), (u'who', 'WP'), (u'would', 'MD'), (u'be', 'VB'), (u'quarantined', 'VBN'), (u'.', '.')]\n",
      "\n",
      "[(u'Anyone', 'NN'), (u'who', 'WP'), (u'had', 'VBD'), (u'direct', 'JJ'), (u'contact', 'NN'), (u'with', 'IN'), (u'an', 'DT'), (u'Ebola', 'NNP'), (u'patient', 'NN'), (u'in', 'IN'), (u'Liberia', 'NNP'), (u',', ','), (u'Sierra', 'NNP'), (u'Leone', 'NNP'), (u'or', 'CC'), (u'Guinea', 'NNP'), (u'will', 'MD'), (u'be', 'VB'), (u'quarantined', 'VBN'), (u'.', '.')]\n",
      "\n",
      "[(u'In', 'IN'), (u'addition', 'NN'), (u',', ','), (u'anyone', 'NN'), (u'who', 'WP'), (u'traveled', 'VBD'), (u'there', 'RB'), (u'but', 'CC'), (u'had', 'VBD'), (u'no', 'DT'), (u'such', 'JJ'), (u'contact', 'NN'), (u'would', 'MD'), (u'be', 'VB'), (u'actively', 'RB'), (u'monitored', 'VBN'), (u'and', 'CC'), (u'possibly', 'RB'), (u'quarantined', 'VBD'), (u',', ','), (u'authorities', 'NNS'), (u'said', 'VBD'), (u'.', '.')]\n",
      "\n",
      "[(u'This', 'DT'), (u'news', 'NN'), (u'came', 'VBD'), (u'a', 'DT'), (u'day', 'NN'), (u'after', 'IN'), (u'a', 'DT'), (u'doctor', 'NN'), (u'who', 'WP'), (u'had', 'VBD'), (u'treated', 'VBN'), (u'Ebola', 'NNP'), (u'patients', 'NNS'), (u'in', 'IN'), (u'Guinea', 'NNP'), (u'was', 'VBD'), (u'diagnosed', 'VBN'), (u'in', 'IN'), (u'Manhattan', 'NNP'), (u',', ','), (u'becoming', 'VBG'), (u'the', 'DT'), (u'fourth', 'JJ'), (u'person', 'NN'), (u'diagnosed', 'VBD'), (u'with', 'IN'), (u'the', 'DT'), (u'virus', 'NN'), (u'in', 'IN'), (u'the', 'DT'), (u'United', 'NNP'), (u'States', 'NNPS'), (u'and', 'CC'), (u'the', 'DT'), (u'first', 'JJ'), (u'outside', 'NN'), (u'of', 'IN'), (u'Dallas', 'NNP'), (u'.', '.')]\n",
      "\n",
      "[(u'And', 'CC'), (u'the', 'DT'), (u'decision', 'NN'), (u'came', 'VBD'), (u'not', 'RB'), (u'long', 'RB'), (u'after', 'IN'), (u'a', 'DT'), (u'health-care', 'JJ'), (u'worker', 'NN'), (u'who', 'WP'), (u'had', 'VBD'), (u'treated', 'VBN'), (u'Ebola', 'NNP'), (u'patients', 'NNS'), (u'arrived', 'VBD'), (u'at', 'IN'), (u'Newark', 'NNP'), (u',', ','), (u'one', 'CD'), (u'of', 'IN'), (u'five', 'CD'), (u'airports', 'NNS'), (u'where', 'WRB'), (u'people', 'NNS'), (u'traveling', 'VBG'), (u'from', 'IN'), (u'West', 'NNP'), (u'Africa', 'NNP'), (u'to', 'TO'), (u'the', 'DT'), (u'United', 'NNP'), (u'States', 'NNPS'), (u'are', 'VBP'), (u'encountering', 'VBG'), (u'the', 'DT'), (u'stricter', 'NN'), (u'screening', 'NN'), (u'rules', 'NNS'), (u'.', '.')]\n",
      "\n"
     ]
    }
   ],
   "source": [
    "for sent in nltk.sent_tokenize(text):\n",
    "    print list(nltk.pos_tag(nltk.word_tokenize(sent)))\n",
    "    print"
   ]
  },
  {
   "cell_type": "markdown",
   "metadata": {},
   "source": [
    "All of these taggers work _pretty_ well - but you can (and should train them on your own corpora). \n",
    "\n",
    "## Stemming and Lemmatization\n",
    "\n",
    "We have an immense number of word forms as you can see from our various counts in the `FreqDist` above - it is helpful for many applications to normalize these word forms (especially applications like search) into some canonical word for further exploration. In English (and many other languages) - morphological context indicate gender, tense, quantity, etc. but these sublties might not be necessary:\n",
    "\n",
    "Stemming = chop off affixes to get the root stem of the word:\n",
    "\n",
    "    running --> run\n",
    "    flowers --> flower\n",
    "    geese   --> geese \n",
    "    \n",
    "Lemmatization = look up word form in a lexicon to get canonical lemma\n",
    "\n",
    "    women   --> woman\n",
    "    foxes   --> fox\n",
    "    sheep   --> sheep\n",
    "    \n",
    "There are several stemmers available:\n",
    "\n",
    "    - Lancaster (English, newer and aggressive)\n",
    "    - Porter (English, original stemmer)\n",
    "    - Snowball (Many languages, newest)\n",
    "    \n",
    "The Lemmatizer uses the WordNet lexicon\n",
    "    "
   ]
  },
  {
   "cell_type": "code",
   "execution_count": 36,
   "metadata": {
    "collapsed": false
   },
   "outputs": [
    {
     "name": "stdout",
     "output_type": "stream",
     "text": [
      "the women run in the fog pass bunni work as comput scientist .\n",
      "the wom run in the fog pass bunny work as comput sci .\n",
      "The women run in the fog pass bunni work as comput scientist .\n"
     ]
    }
   ],
   "source": [
    "from nltk.stem.snowball import SnowballStemmer\n",
    "from nltk.stem.lancaster import LancasterStemmer\n",
    "from nltk.stem.porter import PorterStemmer\n",
    "\n",
    "text = list(nltk.word_tokenize(\"The women running in the fog passed bunnies working as computer scientists.\"))\n",
    "\n",
    "snowball = SnowballStemmer('english')\n",
    "lancaster = LancasterStemmer()\n",
    "porter = PorterStemmer()\n",
    "\n",
    "for stemmer in (snowball, lancaster, porter):\n",
    "    stemmed_text = [stemmer.stem(t) for t in text]\n",
    "    print \" \".join(stemmed_text)"
   ]
  },
  {
   "cell_type": "code",
   "execution_count": 37,
   "metadata": {
    "collapsed": false
   },
   "outputs": [
    {
     "name": "stdout",
     "output_type": "stream",
     "text": [
      "The woman running in the fog passed bunny working a computer scientist .\n"
     ]
    }
   ],
   "source": [
    "from nltk.stem.wordnet import WordNetLemmatizer\n",
    "\n",
    "lemmatizer = WordNetLemmatizer()\n",
    "lemmas = [lemmatizer.lemmatize(t) for t in text]\n",
    "print \" \".join(lemmas)"
   ]
  },
  {
   "cell_type": "markdown",
   "metadata": {},
   "source": [
    "Note that the lemmatizer has to load the WordNet corpus which takes a bit.\n",
    "\n",
    "Typical normalization of text for use as features in machine learning models looks something like this:"
   ]
  },
  {
   "cell_type": "code",
   "execution_count": 38,
   "metadata": {
    "collapsed": false
   },
   "outputs": [
    {
     "name": "stdout",
     "output_type": "stream",
     "text": [
      "['eagle', u'fly', 'midnight']\n"
     ]
    }
   ],
   "source": [
    "import string\n",
    "\n",
    "## Module constants\n",
    "lemmatizer  = WordNetLemmatizer()\n",
    "stopwords   = set(nltk.corpus.stopwords.words('english'))\n",
    "punctuation = string.punctuation\n",
    "\n",
    "def normalize(text):\n",
    "    for token in nltk.wordpunct_tokenize(text):\n",
    "        #if you're going to do part of speech tagging, do it here\n",
    "        token = token.lower()\n",
    "        if token not in stopwords and token not in punctuation:\n",
    "            continue\n",
    "        token = lemmatizer.lemmatize(token)\n",
    "        yield token\n",
    "\n",
    "print list(normalize(\"The eagle flies at midnight.\"))"
   ]
  },
  {
   "cell_type": "markdown",
   "metadata": {},
   "source": [
    "## Named Entity Recognition\n",
    "\n",
    "NLTK has an excellent MaxEnt backed Named Entity Recognizer that is trained on the Penn Treebank. You can also retrain the chunker if you'd like - the code is very readable to extend it with a Gazette or otherwise. "
   ]
  },
  {
   "cell_type": "code",
   "execution_count": 39,
   "metadata": {
    "collapsed": false
   },
   "outputs": [
    {
     "name": "stdout",
     "output_type": "stream",
     "text": [
      "(S\n",
      "  (PERSON John/NNP)\n",
      "  (PERSON Smith/NNP)\n",
      "  is/VBZ\n",
      "  from/IN\n",
      "  the/DT\n",
      "  (GPE United/NNP States/NNPS)\n",
      "  of/IN\n",
      "  (GPE America/NNP)\n",
      "  and/CC\n",
      "  works/VBZ\n",
      "  at/IN\n",
      "  (ORGANIZATION Microsoft/NNP Research/NNP Labs/NNP))\n"
     ]
    }
   ],
   "source": [
    "print nltk.ne_chunk(nltk.pos_tag(nltk.word_tokenize(\"John Smith is from the United States of America and works at Microsoft Research Labs\")))"
   ]
  },
  {
   "cell_type": "markdown",
   "metadata": {},
   "source": [
    "You can also wrap the Stanford NER system, which many of you are also probably used to using."
   ]
  },
  {
   "cell_type": "code",
   "execution_count": null,
   "metadata": {
    "collapsed": false
   },
   "outputs": [],
   "source": [
    "import os\n",
    "from nltk.tag import StanfordNERTagger\n",
    "\n",
    "# change the paths below to point to wherever you unzipped the Stanford NER download file\n",
    "stanford_root = '/Users/benjamin/Development/stanford-ner-2014-01-04'\n",
    "stanford_data = os.path.join(stanford_root, 'classifiers/english.all.3class.distsim.crf.ser.gz')\n",
    "stanford_jar  = os.path.join(stanford_root, 'stanford-ner-2014-01-04.jar')\n",
    "\n",
    "st = StanfordNERTagger(stanford_data, stanford_jar, 'utf-8')\n",
    "for i in st.tag(\"John Bengfort is from the United States of America and works at Microsoft Research Labs\".split()):\n",
    "    print '[' + i[1] + '] ' + i[0]\n"
   ]
  },
  {
   "cell_type": "markdown",
   "metadata": {},
   "source": [
    "## Exercises\n",
    "\n",
    "### Preprocessing\n",
    "\n",
    "The primary responsibility you will have before any task involving NLP is to ingest and transform raw text into a corpus that can then be used for performing further evaluations. NLTK provides many corpora for you to work with for exploration, but you must become able to design and construct your own corpora, and to implement `nltk.CorpusReader` objects - classes that in a memory safe and efficient way are able to read entire corpora and analyze them. \n",
    "\n",
    "Many people get away with the `nltk.PlainTextCorpusReader` - which uses built-in taggers and tokenizers to deal with raw text. However, this methodology leaves you at the mercy of the tagging model that you have provided, and does not allow you to make corrections that are saved in between runs. Instead you should preprocess your text to allow it to be read by the `nltk.corpus.TaggedCorpusReader` or the penultimate corpus, the `nltk.corpus.BracketParseCorpusReader`. \n",
    "\n",
    "In this task, you will transform raw text into a format that can then be read by the `nltk.corpus.TaggedCorpusReader`. See the documentation at [http://www.nltk.org/api/nltk.corpus.reader.html](http://www.nltk.org/api/nltk.corpus.reader.html) for more information on this reader. \n",
    "\n",
    "You will find 20-40 documents of recent tech articles from Engadget and Tech Crunch at the following link: [http://bit.ly/nlpnltkcorpus](http://bit.ly/nlpnltkcorpus) - please download them to your local file system. Write a Python program that uses NLTK to preprocess these documents into a format that can be easily read by the `nltk.corpus.TaggedCorpusReader`. \n",
    "\n",
    "Note that you will have to process these files and remove HTML tags and you might have to do other tasks related to the clean up; to do this I suggest you use the third party library BeautifulSoup which can be found at [http://www.crummy.com/software/BeautifulSoup/](http://www.crummy.com/software/BeautifulSoup/). See also Chapter 3 in the NLTK book for more information.\n",
    "\n",
    "#### Evaluation\n",
    "\n",
    "1. What is the word count and vocabulary of this corpus?\n",
    "2. What is the lexical diversity of the corpus?\n",
    "3. What are the 5 most common lexical categories (parts of speech)?\n",
    "4. What are the 10 most common unigrams, the 10 most common bigrams? (please exclude stopwords, using the `nltk.corpus.stopwords('english')` list)\n",
    "5. How many nouns are in the corpus?\n",
    "\n",
    "### Parsing\n",
    "\n",
    "Given a seed inventory of pre-terminal and non-terminal symbols (grammatical categories) and a sample lexicon, write a grammar for English noun phrases. Your grammar should cover all legal structures of noun phrases used by the grammatical categories provided. You must include the following:\n",
    "\n",
    "- noun-noun compounds (\"brick wall\", \"lawn chair\")\n",
    "- relative clauses of the form Rel-Cl ⟶ Rel-Pro V NP (\"[the ball] that hit her\") \n",
    "\n",
    "**Note:** You do not need to cover more than one PP in a row, more than one adjective in a row, noun-noun compounds of length > 2, quantifiers followed by determiners (\"all of these\") or mass nouns (\"beer\", \"sincerity\")\n",
    "\n",
    "You should then write a program that uses an NLTK parser and the grammar you constructed that will return a syntactic tree if the input is a noun phrase or None if the input is ungrammatical. Your program will have to take the input sentence, tokenize it and then tag it according to the lexicon (you can assume that words in this lexicon do not have multiple senses) - you'll then have to pass the grammar phrase (the tags) to the parser.\n",
    "\n",
    "#### Tagset\n",
    "\n",
    "    N = noun\n",
    "    NP = noun phrase\n",
    "    Adj = adjective\n",
    "    AdjP = adjective phrase\n",
    "    Adv = adverb\n",
    "    Prep = preposition\n",
    "    PP = prepositional phrase\n",
    "    Quant = quantifier\n",
    "    Ord = ordinal numeral\n",
    "    Card = cardinal numeral\tRel-Cl = relative clause\n",
    "    Rel-Pro = relative pronoun\n",
    "    V = verb\n",
    "    S = sentence\n",
    "    Det = determiner\n",
    "    Dem-Det = demonstrative determiner\n",
    "    Wh-Det = wh-determiner\n",
    "    PPron = personal pronoun\n",
    "    PoPron = possessive pronoun\n",
    "\n",
    "#### Sample Lexicon\n",
    "\n",
    "    a            Det\n",
    "    an           Det\n",
    "    at           Prep\n",
    "    airplane     NSg\n",
    "    airplanes    NPl\n",
    "    airport      NSg\n",
    "    airports     NPl\n",
    "    any          Quant\n",
    "    beautiful    Adj\n",
    "    big          Adj\n",
    "    eat          V\n",
    "    eats         V3Sg\n",
    "    finished     VPastPP\n",
    "    four         Card\n",
    "    fourth       Ord\n",
    "    he           PPron\n",
    "    his          PoPron\n",
    "    in           Prep\n",
    "    many         Quant\n",
    "    my           PoPron\n",
    "    new          Adj\n",
    "    of           Prep\n",
    "    offered      VPastPP\n",
    "    on           Prep\n",
    "    restaurant   NSg\n",
    "    restaurants  NPl\n",
    "    runway       NSg\n",
    "    runways      NPl\n",
    "    second       Ord\n",
    "    some         Quant\n",
    "    that         Dem-DetSg\n",
    "    that         Rel-Pro\n",
    "    the          Det\n",
    "    this         Dem-DetSg\n",
    "    these        Dem-DetPl\n",
    "    third        Ord\n",
    "    those        Dem-DetPl\n",
    "    three        Card\n",
    "    two          Card\n",
    "    very         Adv\n",
    "    which        Wh-Det\n",
    "    who          Wh-Det\n",
    "    you          PPron\n",
    "\n",
    "#### Evaluation Phrases\n",
    "\n",
    "- \"Four new airports\"\n",
    "- \"Very new airport runways\"\n",
    "- \"His second house\"\n",
    "- \"Some beautiful dishes which a restaurant offered\"\n",
    "- \"The runway that the airport built\"\n",
    "\n",
    "### Document Classification\n",
    "\n",
    "In the first week you created an ingestion mechanism and an NLTK corpus reader for a set of RSS feeds. These feeds potentially have topics associated with them (broad tags like tech, news, sports, etc). In this question you'll build a classifier on a data set of RSS feeds that is provided in the course materials to decide whether or not you can categorize the various topics using one of the classifiers you learned in this week.\n",
    "\n",
    "The corpus is constructed as follows. Each individual blog post is in its own HTML file stored in a directory labled with the topic. Use the `nltk.CategorizedCorpusReader` or the `nltk.CategorizedPlaintextCorpusReader` to construct your corpora (you may review how the movie reviews data set is structured). To do this you need to pass to the corpus the path to the root of your corpus, and a regular expression to match file names. You also need to use a regular expression passed as the `cat_pattern` keyword argument, which is used to match the category labels. Here is an example for the spam corpus:\n",
    "\n",
    "    from nltk.corpus import CategorizedPlaintextCorpusReader as EmailCorpus\n",
    "\n",
    "    corpus   = EmailCorpus(\"./data/nbspam\", r'(?!\\.).*\\.[a-f0-9]+',\n",
    "                   cat_pattern=r'(spam|ham)/.*', encoding='iso-8859-1')\n",
    "\n",
    "    print corpus.categories()\n",
    "    print corpus.fileids()\n",
    "\n",
    "Create a test set, a dev test set, and a training set from randomly shuffled documents that are in the corpus to use in your development. Save these sets to disk with pickles to ensure that you can develop easily with them.\n",
    "\n",
    "Create a function that extracts features per document. Choose any features you would like. One idea is to use the most common unigrams; you might be able to use common bigrams as well. If you can think of any other features, feel free to include them as well (maybe an includes_recipe feature, etc.)) You may want to consider a TF-IDF feature to improve your results.\n",
    "\n",
    "Train the classifier of your choice on the training data, and then improve it with your dev set. Report your final accuracy and the most informative features by running the accuracy checker on the final test set.\n",
    "\n",
    "#### Evaluation\n",
    "\n",
    "1. Report accuracy and most informative features of classifier (4 points)\n",
    "2. Show complete work with submitted Python code (6 points)\n",
    "3. Create a corpus reader that extends a built-in NLTK corpus reader (4 points)\n",
    "4. Create an efficient feature extractor (4 points)\n",
    "5. Achieve an accuracy with your classifier of greater than 85% (2 points)\n",
    "\n",
    "### Product Classification\n",
    "\n",
    "The second question involves comparing and contrast the Naive Bayes Classifier with the Maximum Entropy classifier. You will be given an abbreviated data set of product names and their descriptions as well as their label (tops, bottoms, shoes, etc.) - similarly to question one, create a corpus that can read the CSV file - you may want to look at the `nltk.corpus.WordListCorpusReader` for inspiration about how to create such a corpus (each product is on a single line).\n",
    "\n",
    "Create test and training sets from the data then build both a NaiveBayes and Maxent classifier - make sure that you save these classifiers to disk using the `pickle` module! The Maxent classifier in particular will take a long time to train. Once they're trained; report the accuracy of each as well as the most informative features. Are there any surprises? Which classifier performs better?\n"
   ]
  },
  {
   "cell_type": "code",
   "execution_count": null,
   "metadata": {
    "collapsed": false
   },
   "outputs": [],
   "source": []
  }
 ],
 "metadata": {
  "kernelspec": {
   "display_name": "Python 2",
   "language": "python",
   "name": "python2"
  },
  "language_info": {
   "codemirror_mode": {
    "name": "ipython",
    "version": 2
   },
   "file_extension": ".py",
   "mimetype": "text/x-python",
   "name": "python",
   "nbconvert_exporter": "python",
   "pygments_lexer": "ipython2",
   "version": "2.7.11"
  }
 },
 "nbformat": 4,
 "nbformat_minor": 0
}
